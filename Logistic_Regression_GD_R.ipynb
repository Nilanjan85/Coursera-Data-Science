{
 "cells": [
  {
   "cell_type": "markdown",
   "metadata": {},
   "source": [
    "# Logistic Regression by Gradient Descent Method"
   ]
  },
  {
   "cell_type": "code",
   "execution_count": 9,
   "metadata": {},
   "outputs": [
    {
     "data": {
      "text/html": [
       "<table>\n",
       "<caption>A data.frame: 6 × 3</caption>\n",
       "<thead>\n",
       "\t<tr><th scope=col>score.1</th><th scope=col>score.2</th><th scope=col>label</th></tr>\n",
       "\t<tr><th scope=col>&lt;dbl&gt;</th><th scope=col>&lt;dbl&gt;</th><th scope=col>&lt;int&gt;</th></tr>\n",
       "</thead>\n",
       "<tbody>\n",
       "\t<tr><td>34.62366</td><td>78.02469</td><td>0</td></tr>\n",
       "\t<tr><td>30.28671</td><td>43.89500</td><td>0</td></tr>\n",
       "\t<tr><td>35.84741</td><td>72.90220</td><td>0</td></tr>\n",
       "\t<tr><td>60.18260</td><td>86.30855</td><td>1</td></tr>\n",
       "\t<tr><td>79.03274</td><td>75.34438</td><td>1</td></tr>\n",
       "\t<tr><td>45.08328</td><td>56.31637</td><td>0</td></tr>\n",
       "</tbody>\n",
       "</table>\n"
      ],
      "text/latex": [
       "A data.frame: 6 × 3\n",
       "\\begin{tabular}{r|lll}\n",
       " score.1 & score.2 & label\\\\\n",
       " <dbl> & <dbl> & <int>\\\\\n",
       "\\hline\n",
       "\t 34.62366 & 78.02469 & 0\\\\\n",
       "\t 30.28671 & 43.89500 & 0\\\\\n",
       "\t 35.84741 & 72.90220 & 0\\\\\n",
       "\t 60.18260 & 86.30855 & 1\\\\\n",
       "\t 79.03274 & 75.34438 & 1\\\\\n",
       "\t 45.08328 & 56.31637 & 0\\\\\n",
       "\\end{tabular}\n"
      ],
      "text/markdown": [
       "\n",
       "A data.frame: 6 × 3\n",
       "\n",
       "| score.1 &lt;dbl&gt; | score.2 &lt;dbl&gt; | label &lt;int&gt; |\n",
       "|---|---|---|\n",
       "| 34.62366 | 78.02469 | 0 |\n",
       "| 30.28671 | 43.89500 | 0 |\n",
       "| 35.84741 | 72.90220 | 0 |\n",
       "| 60.18260 | 86.30855 | 1 |\n",
       "| 79.03274 | 75.34438 | 1 |\n",
       "| 45.08328 | 56.31637 | 0 |\n",
       "\n"
      ],
      "text/plain": [
       "  score.1  score.2  label\n",
       "1 34.62366 78.02469 0    \n",
       "2 30.28671 43.89500 0    \n",
       "3 35.84741 72.90220 0    \n",
       "4 60.18260 86.30855 1    \n",
       "5 79.03274 75.34438 1    \n",
       "6 45.08328 56.31637 0    "
      ]
     },
     "metadata": {},
     "output_type": "display_data"
    }
   ],
   "source": [
    "# Load data\n",
    "#getwd()\n",
    "dt = read.csv('C:\\\\Users\\\\N R CHAKRABORTY\\\\Downloads\\\\data.csv')\n",
    "head(dt)"
   ]
  },
  {
   "cell_type": "code",
   "execution_count": 10,
   "metadata": {},
   "outputs": [
    {
     "data": {
      "image/png": "[encoded data removed]",
      "text/plain": [
       "plot without title"
      ]
     },
     "metadata": {},
     "output_type": "display_data"
    }
   ],
   "source": [
    "plot(dt$`score.1`,dt$`score.2`,col=as.factor(dt$label),xlab='Score 1', ylab='Score 2')"
   ]
  },
  {
   "cell_type": "code",
   "execution_count": 17,
   "metadata": {},
   "outputs": [
    {
     "data": {
      "text/html": [
       "<table>\n",
       "<caption>A matrix: 6 × 3 of type dbl</caption>\n",
       "<thead>\n",
       "\t<tr><th scope=col></th><th scope=col>score.1</th><th scope=col>score.2</th></tr>\n",
       "</thead>\n",
       "<tbody>\n",
       "\t<tr><td>1</td><td>34.62366</td><td>78.02469</td></tr>\n",
       "\t<tr><td>1</td><td>30.28671</td><td>43.89500</td></tr>\n",
       "\t<tr><td>1</td><td>35.84741</td><td>72.90220</td></tr>\n",
       "\t<tr><td>1</td><td>60.18260</td><td>86.30855</td></tr>\n",
       "\t<tr><td>1</td><td>79.03274</td><td>75.34438</td></tr>\n",
       "\t<tr><td>1</td><td>45.08328</td><td>56.31637</td></tr>\n",
       "</tbody>\n",
       "</table>\n"
      ],
      "text/latex": [
       "A matrix: 6 × 3 of type dbl\n",
       "\\begin{tabular}{lll}\n",
       "  & score.1 & score.2\\\\\n",
       "\\hline\n",
       "\t 1 & 34.62366 & 78.02469\\\\\n",
       "\t 1 & 30.28671 & 43.89500\\\\\n",
       "\t 1 & 35.84741 & 72.90220\\\\\n",
       "\t 1 & 60.18260 & 86.30855\\\\\n",
       "\t 1 & 79.03274 & 75.34438\\\\\n",
       "\t 1 & 45.08328 & 56.31637\\\\\n",
       "\\end{tabular}\n"
      ],
      "text/markdown": [
       "\n",
       "A matrix: 6 × 3 of type dbl\n",
       "\n",
       "| <!----> | score.1 | score.2 |\n",
       "|---|---|---|\n",
       "| 1 | 34.62366 | 78.02469 |\n",
       "| 1 | 30.28671 | 43.89500 |\n",
       "| 1 | 35.84741 | 72.90220 |\n",
       "| 1 | 60.18260 | 86.30855 |\n",
       "| 1 | 79.03274 | 75.34438 |\n",
       "| 1 | 45.08328 | 56.31637 |\n",
       "\n"
      ],
      "text/plain": [
       "       score.1  score.2 \n",
       "[1,] 1 34.62366 78.02469\n",
       "[2,] 1 30.28671 43.89500\n",
       "[3,] 1 35.84741 72.90220\n",
       "[4,] 1 60.18260 86.30855\n",
       "[5,] 1 79.03274 75.34438\n",
       "[6,] 1 45.08328 56.31637"
      ]
     },
     "metadata": {},
     "output_type": "display_data"
    }
   ],
   "source": [
    "#Data Wrangling\n",
    "# Predictor Variable\n",
    "x = as.matrix(dt[,c(1,2)])\n",
    "#Adding 1 to the x predictor variable as X0\n",
    "x = cbind(rep(1,nrow(x)),x)\n",
    "#head(x)"
   ]
  },
  {
   "cell_type": "code",
   "execution_count": 19,
   "metadata": {},
   "outputs": [
    {
     "data": {
      "text/html": [
       "<table>\n",
       "<caption>A matrix: 6 × 1 of type int</caption>\n",
       "<tbody>\n",
       "\t<tr><td>0</td></tr>\n",
       "\t<tr><td>0</td></tr>\n",
       "\t<tr><td>0</td></tr>\n",
       "\t<tr><td>1</td></tr>\n",
       "\t<tr><td>1</td></tr>\n",
       "\t<tr><td>0</td></tr>\n",
       "</tbody>\n",
       "</table>\n"
      ],
      "text/latex": [
       "A matrix: 6 × 1 of type int\n",
       "\\begin{tabular}{l}\n",
       "\t 0\\\\\n",
       "\t 0\\\\\n",
       "\t 0\\\\\n",
       "\t 1\\\\\n",
       "\t 1\\\\\n",
       "\t 0\\\\\n",
       "\\end{tabular}\n"
      ],
      "text/markdown": [
       "\n",
       "A matrix: 6 × 1 of type int\n",
       "\n",
       "| 0 |\n",
       "| 0 |\n",
       "| 0 |\n",
       "| 1 |\n",
       "| 1 |\n",
       "| 0 |\n",
       "\n"
      ],
      "text/plain": [
       "     [,1]\n",
       "[1,] 0   \n",
       "[2,] 0   \n",
       "[3,] 0   \n",
       "[4,] 1   \n",
       "[5,] 1   \n",
       "[6,] 0   "
      ]
     },
     "metadata": {},
     "output_type": "display_data"
    }
   ],
   "source": [
    "# Respons Variable\n",
    "y= as.matrix(dt[,3])\n",
    "#head(y)"
   ]
  },
  {
   "cell_type": "code",
   "execution_count": 22,
   "metadata": {},
   "outputs": [],
   "source": [
    "#sigmoid function\n",
    "sigmoid <- function(z)\n",
    "    {\n",
    "        g = 1/(1+exp(-z))\n",
    "        return(g)\n",
    "}"
   ]
  },
  {
   "cell_type": "code",
   "execution_count": 29,
   "metadata": {},
   "outputs": [],
   "source": [
    "#Cost function\n",
    "\n",
    "cost = function(theta){\n",
    "    m = nrow(x)\n",
    "    g = sigmoid(x%*%theta)\n",
    "    j = (1/m)* sum(-y*log(g)-((1-y)*log(1-g)))\n",
    "    return(j)\n",
    "}"
   ]
  },
  {
   "cell_type": "code",
   "execution_count": 32,
   "metadata": {},
   "outputs": [
    {
     "data": {
      "text/html": [
       "<ol class=list-inline>\n",
       "\t<li>0</li>\n",
       "\t<li>0</li>\n",
       "\t<li>0</li>\n",
       "</ol>\n"
      ],
      "text/latex": [
       "\\begin{enumerate*}\n",
       "\\item 0\n",
       "\\item 0\n",
       "\\item 0\n",
       "\\end{enumerate*}\n"
      ],
      "text/markdown": [
       "1. 0\n",
       "2. 0\n",
       "3. 0\n",
       "\n",
       "\n"
      ],
      "text/plain": [
       "[1] 0 0 0"
      ]
     },
     "metadata": {},
     "output_type": "display_data"
    },
    {
     "data": {
      "text/html": [
       "0.693147180559945"
      ],
      "text/latex": [
       "0.693147180559945"
      ],
      "text/markdown": [
       "0.693147180559945"
      ],
      "text/plain": [
       "[1] 0.6931472"
      ]
     },
     "metadata": {},
     "output_type": "display_data"
    }
   ],
   "source": [
    "#initial vale to test cost\n",
    "theta_initial = rep(0,ncol(x))\n",
    "theta_initial\n",
    "cost(theta_initial)"
   ]
  },
  {
   "cell_type": "code",
   "execution_count": 36,
   "metadata": {},
   "outputs": [
    {
     "data": {
      "text/html": [
       "0.203497704580909"
      ],
      "text/latex": [
       "0.203497704580909"
      ],
      "text/markdown": [
       "0.203497704580909"
      ],
      "text/plain": [
       "[1] 0.2034977"
      ]
     },
     "metadata": {},
     "output_type": "display_data"
    }
   ],
   "source": [
    "#Gradient descend \n",
    "#Derive theta using gradient descent using optim function\n",
    "theta_optimum = optim(par=theta_initial, fn=cost)\n",
    "\n",
    "# set theta\n",
    "theta = theta_optimum$par \n",
    "\n",
    "#the min cost value at the optimum theta \n",
    "theta_optimum$val\n"
   ]
  },
  {
   "cell_type": "code",
   "execution_count": 46,
   "metadata": {},
   "outputs": [
    {
     "data": {
      "text/html": [
       "<table>\n",
       "<caption>A matrix: 1 × 1 of type dbl</caption>\n",
       "<tbody>\n",
       "\t<tr><td>0.7763541</td></tr>\n",
       "</tbody>\n",
       "</table>\n"
      ],
      "text/latex": [
       "A matrix: 1 × 1 of type dbl\n",
       "\\begin{tabular}{l}\n",
       "\t 0.7763541\\\\\n",
       "\\end{tabular}\n"
      ],
      "text/markdown": [
       "\n",
       "A matrix: 1 × 1 of type dbl\n",
       "\n",
       "| 0.7763541 |\n",
       "\n"
      ],
      "text/plain": [
       "     [,1]     \n",
       "[1,] 0.7763541"
      ]
     },
     "metadata": {},
     "output_type": "display_data"
    }
   ],
   "source": [
    "#Finding the regressional probability for a new x c(1,45,85)\n",
    "prob = sigmoid(t(c(1,45,85))%*%theta)\n",
    "prob\n"
   ]
  },
  {
   "cell_type": "code",
   "execution_count": 43,
   "metadata": {},
   "outputs": [
    {
     "data": {
      "text/html": [
       "<table>\n",
       "<caption>A matrix: 1 × 3 of type dbl</caption>\n",
       "<tbody>\n",
       "\t<tr><td>1</td><td>45</td><td>85</td></tr>\n",
       "</tbody>\n",
       "</table>\n"
      ],
      "text/latex": [
       "A matrix: 1 × 3 of type dbl\n",
       "\\begin{tabular}{lll}\n",
       "\t 1 & 45 & 85\\\\\n",
       "\\end{tabular}\n"
      ],
      "text/markdown": [
       "\n",
       "A matrix: 1 × 3 of type dbl\n",
       "\n",
       "| 1 | 45 | 85 |\n",
       "\n"
      ],
      "text/plain": [
       "     [,1] [,2] [,3]\n",
       "[1,] 1    45   85  "
      ]
     },
     "metadata": {},
     "output_type": "display_data"
    }
   ],
   "source": [
    "# to Modularize the entire approach\n",
    "# we will be clubbing the codes outside the functions written. \n",
    "\n",
    "log_reg <- function(dt,x1)\n",
    "    {\n",
    "        #Data Wrangling\n",
    "        # Predictor Variable\n",
    "        x = as.matrix(dt[,c(1,2)])\n",
    "        #Adding 1 to the x predictor variable as X0\n",
    "        x = cbind(rep(1,nrow(x)),x)\n",
    "        #head(x)\n",
    "    \n",
    "        # Respons Variable\n",
    "        y= as.matrix(dt[,3])\n",
    "        #head(y)\n",
    "    \n",
    "    #initial vale to test cost\n",
    "    theta_initial = rep(0,ncol(x))\n",
    "    theta_initial\n",
    "    cost(theta_initial)\n",
    "    \n",
    "    #Gradient descend \n",
    "    #Derive theta using gradient descent using optim function\n",
    "    theta_optimum = optim(par=theta_initial, fn=cost)\n",
    "\n",
    "    # set theta\n",
    "    theta = theta_optimum$par \n",
    "\n",
    "    #the min cost value at the optimum theta \n",
    "    theta_optimum$val\n",
    "    \n",
    "    #Finding the regressional probability for a new x c(1,45,85)\n",
    "    prob = sigmoid(t(c(1,45,85))%*%theta)\n",
    "    prob\n",
    "    \n",
    "    # Generalisez probalibilty expression\n",
    "    #prob = sigmoid(x1%*%theta)\n",
    "    #x1$prob = prob \n",
    "    #x1$predict = ifelse(x1$prob > 0.5,'Admitted','Rejected')\n",
    "\n",
    "\n",
    "        \n",
    "}"
   ]
  }
 ],
 "metadata": {
  "kernelspec": {
   "display_name": "R",
   "language": "R",
   "name": "ir"
  },
  "language_info": {
   "codemirror_mode": "r",
   "file_extension": ".r",
   "mimetype": "text/x-r-source",
   "name": "R",
   "pygments_lexer": "r",
   "version": "3.6.0"
  }
 },
 "nbformat": 4,
 "nbformat_minor": 2
}
